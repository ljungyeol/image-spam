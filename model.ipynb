{
 "cells": [
  {
   "cell_type": "code",
   "execution_count": null,
   "metadata": {},
   "outputs": [],
   "source": [
    "import tensorflow as tf\n",
    "\n",
    "#flag 다른 파일 사용 애매해 일단 직접 지정 , 10.5\n",
    "\n",
    "#FLAGS = tf.app.flags.FLAGS\n",
    "flags = tf.app.flags\n",
    "FLAGS = flags.FLAGS\n",
    "\n",
    "flags.DEFINE_string('f', '', 'kernel')\n",
    "flags.DEFINE_integer('batch_size', 50, 'Batch size')\n",
    "\n",
    "#\n",
    "def weight_variable(shape) :\n",
    "    init = tf.fruncated_normal(shape, stddev=1)\n",
    "    return tf.Variable(init)\n",
    "\n",
    "def bias_variable(shape) :\n",
    "    init = tf.constant(1,shape=shape)\n",
    "    return tf.Variable(init)\n",
    "\n",
    "def conv2d(x, W) :\n",
    "    return tf.nn.conv2d(x, W, strides=[1,1,1,1], padding='SAME')\n",
    "\n",
    "def max_pool(x, h, w) :\n",
    "    return tf.nn.max_pool(x, ksize=[1,h,w,1],strides=[1,h,w,1], padding='SAME')\n",
    "\n",
    "\n",
    "#이미지 불러오기\n",
    "\n",
    "\n",
    "\n",
    "#신경망구성\n",
    "\n",
    "\n",
    "#h_conv1 = tf.nn.relu(conv2d(x_image, W_conv1) + b_conv1)\n",
    "#h_pool1 = max_pool_2x2(h_conv1)    "
   ]
  }
 ],
 "metadata": {
  "kernelspec": {
   "display_name": "Python 3",
   "language": "python",
   "name": "python3"
  },
  "language_info": {
   "codemirror_mode": {
    "name": "ipython",
    "version": 3
   },
   "file_extension": ".py",
   "mimetype": "text/x-python",
   "name": "python",
   "nbconvert_exporter": "python",
   "pygments_lexer": "ipython3",
   "version": "3.6.5"
  }
 },
 "nbformat": 4,
 "nbformat_minor": 2
}
