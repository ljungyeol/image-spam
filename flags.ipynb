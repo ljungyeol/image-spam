{
 "cells": [
  {
   "cell_type": "code",
   "execution_count": 1,
   "metadata": {},
   "outputs": [
    {
     "name": "stderr",
     "output_type": "stream",
     "text": [
      "C:\\Users\\ghost\\Anaconda3\\lib\\site-packages\\h5py\\__init__.py:36: FutureWarning: Conversion of the second argument of issubdtype from `float` to `np.floating` is deprecated. In future, it will be treated as `np.float64 == np.dtype(float).type`.\n",
      "  from ._conv import register_converters as _register_converters\n"
     ]
    }
   ],
   "source": [
    "import tensorflow as tf\n",
    "\n",
    "#flag 지정\n",
    "FLAGS = tf.app.flags.FLAGS\n",
    "\n",
    "tf.app.flags.DEFINE_string('f', '', '')\n",
    "#트레이닝에 사용할 이미지 개수\n",
    "\n",
    "#원본 이미지 크기\n",
    "tf.app.flags.DEFINE_integer('img_h', 144, '')\n",
    "tf.app.flags.DEFINE_integer('img_w', 144, '')\n",
    "\n",
    "#resize 이미지 크기\n",
    "tf.app.flags.DEFINE_integer('height', 128, '')\n",
    "tf.app.flags.DEFINE_integer('width', 128, '')\n",
    "\n",
    "#이미지 채널의 크기, 흑백1, RGB3\n",
    "tf.app.flags.DEFINE_integer('channel', 3, '')\n",
    "\n",
    "#최종 분류 개수, spam or ham\n",
    "tf.app.flags.DEFINE_integer('class', 2, '')\n",
    "\n",
    "#conv layer 개수\n",
    "#tf.app.flags.DEFINE_integer('conv', 4, '')\n",
    "\n",
    "#conv kernel_size\n",
    "tf.app.flags.DEFINE_integer('kernel_size', 5, '')\n",
    "\n",
    "#max pool size, 2*2\n",
    "tf.app.flags.DEFINE_integer('pool_size', 2, '')\n",
    "\n",
    "#layer 통과하는 image 개수\n",
    "tf.app.flags.DEFINE_integer('img_size', 32, '')\n",
    "\n",
    "#full connected layer 개수\n",
    "#tf.app.flags.DEFINE_integer('fc', 2, '')\n",
    "\n",
    "#fc input size\n",
    "tf.app.flags.DEFINE_integer('fc_size', 512, '')\n",
    "\n",
    "#학습 횟수\n",
    "tf.app.flags.DEFINE_integer('max_steps', 7000, '')\n",
    "\n",
    "#learning_rate\n",
    "tf.app.flags.DEFINE_float('learning_rate', 0.001, '')\n",
    "\n",
    "#트레이닝에 사용할 이미지 개수\n",
    "tf.app.flags.DEFINE_integer('batch_size', 50, '')\n",
    "\n",
    "#image 데이터 위치\n",
    "tf.app.flags.DEFINE_string('data_dir', './data', '')\n",
    "tf.app.flags.DEFINE_string('checkpoint_dir', './checkpoint', '')"
   ]
  },
  {
   "cell_type": "code",
   "execution_count": 4,
   "metadata": {
    "scrolled": true
   },
   "outputs": [
    {
     "name": "stdout",
     "output_type": "stream",
     "text": [
      "C:\\Users\\ghost\\AppData\\Roaming\\jupyter\\runtime\\kernel-68d7ccf6-389a-45c9-bda5-9c30e2b93c7f.json\n"
     ]
    }
   ],
   "source": []
  }
 ],
 "metadata": {
  "kernelspec": {
   "display_name": "Python 3",
   "language": "python",
   "name": "python3"
  },
  "language_info": {
   "codemirror_mode": {
    "name": "ipython",
    "version": 3
   },
   "file_extension": ".py",
   "mimetype": "text/x-python",
   "name": "python",
   "nbconvert_exporter": "python",
   "pygments_lexer": "ipython3",
   "version": "3.6.5"
  }
 },
 "nbformat": 4,
 "nbformat_minor": 2
}
